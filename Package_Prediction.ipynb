{
  "cells": [
    {
      "cell_type": "code",
      "execution_count": null,
      "id": "2ebf4d03-00b8-4da2-8ec2-5804c782c12c",
      "metadata": {
        "id": "2ebf4d03-00b8-4da2-8ec2-5804c782c12c",
        "colab": {
          "base_uri": "https://localhost:8080/"
        },
        "outputId": "1e4bb91a-3849-4207-cc01-c4dc63316608"
      },
      "outputs": [
        {
          "output_type": "execute_result",
          "data": {
            "text/plain": [
              "['gradient_booster_model.pkl']"
            ]
          },
          "metadata": {},
          "execution_count": 5
        }
      ],
      "source": [
        "import pandas as pd\n",
        "import numpy as np\n",
        "from sklearn.model_selection import train_test_split\n",
        "from sklearn.tree import DecisionTreeRegressor\n",
        "from sklearn.metrics import mean_squared_error, mean_absolute_error, r2_score\n",
        "import joblib\n",
        "from xgboost import XGBRegressor\n",
        "\n",
        "class CustomGBM:\n",
        "    def __init__(self, n_estimators=100, learning_rate=0.1, max_depth=3):\n",
        "        self.n_estimators = n_estimators\n",
        "        self.learning_rate = learning_rate\n",
        "        self.max_depth = max_depth\n",
        "        self.models = []\n",
        "        self.initial_prediction = None\n",
        "\n",
        "    def fit(self, X, y):\n",
        "        self.initial_prediction = np.mean(y)\n",
        "        y_pred = np.full(y.shape, self.initial_prediction)\n",
        "        for _ in range(self.n_estimators):\n",
        "            residual = y - y_pred\n",
        "            model = DecisionTreeRegressor(max_depth=self.max_depth)\n",
        "            model.fit(X, residual)\n",
        "            update = self.learning_rate * model.predict(X)\n",
        "            y_pred += update\n",
        "            self.models.append(model)\n",
        "\n",
        "    def predict(self, X):\n",
        "        y_pred = np.full((X.shape[0],), self.initial_prediction)\n",
        "        for model in self.models:\n",
        "            y_pred += self.learning_rate * model.predict(X)\n",
        "        return y_pred\n",
        "\n",
        "\n",
        "\n",
        "df = pd.read_csv(\"Engineering_graduate_salary.csv\")\n",
        "df = df.head(500)\n",
        "df.drop(columns=['ID'], inplace=True)\n",
        "df.replace(-1, np.nan, inplace=True)\n",
        "df.fillna(0, inplace=True)\n",
        "df = pd.get_dummies(df, columns=['Gender', '10board', '12board', 'Degree', 'Specialization'], drop_first=True)\n",
        "# 1. Drop extreme outliers in salary\n",
        "q_low = df['Salary'].quantile(0.01)\n",
        "q_high = df['Salary'].quantile(0.99)\n",
        "df = df[(df['Salary'] > q_low) & (df['Salary'] < q_high)]\n",
        "\n",
        "X = df.drop('Salary', axis=1)\n",
        "y = np.log1p(df['Salary'])\n",
        "\n",
        "\n",
        "X_train, X_test, y_train, y_test = train_test_split(\n",
        "    X, y, test_size=0.2, random_state=42\n",
        ")\n",
        "\n",
        "\n",
        "dt_model = DecisionTreeRegressor(max_depth=3, random_state=42)\n",
        "dt_model.fit(X_train, y_train)\n",
        "dt_predictions = dt_model.predict(X_test)\n",
        "joblib.dump(dt_model, 'decision_tree_model.pkl')\n",
        "\n",
        "\n",
        "gbm = CustomGBM(n_estimators=100, learning_rate=0.1, max_depth=3)\n",
        "gbm.fit(X_train, y_train)\n",
        "joblib.dump(gbm, 'custom_gradient_booster_model.pkl')\n",
        "\n",
        "\n",
        "\n",
        "xgb_model = XGBRegressor(max_depth=3, learning_rate=0.1, n_estimators=100, random_state=42)\n",
        "xgb_model.fit(X_train, y_train)\n",
        "joblib.dump(xgb_model, 'gradient_booster_model.pkl')\n"
      ]
    },
    {
      "cell_type": "code",
      "execution_count": null,
      "id": "181a75ba-6397-4302-a4d6-5068e659578a",
      "metadata": {
        "colab": {
          "base_uri": "https://localhost:8080/"
        },
        "id": "181a75ba-6397-4302-a4d6-5068e659578a",
        "outputId": "bb330d9b-76ac-4f26-c8ab-16bcc22168e9"
      },
      "outputs": [
        {
          "output_type": "stream",
          "name": "stdout",
          "text": [
            "Decision Tree Regressor Performance:\n",
            "Mean Squared Error: 0.1734\n",
            "Mean Absolute Error: 0.3308\n",
            "R-squared: 0.2304\n",
            "\n",
            "Custom Gradient Booster Performance:\n",
            "Mean Squared Error: 0.1042\n",
            "Mean Absolute Error: 0.2494\n",
            "R-squared: 0.5374\n",
            "\n",
            "XGBoost Regressor Performance:\n",
            "Mean Squared Error: 0.1079\n",
            "Mean Absolute Error: 0.2520\n",
            "R-squared: 0.5210\n"
          ]
        }
      ],
      "source": [
        "decision_tree_model = joblib.load('decision_tree_model.pkl')\n",
        "gradient_booster_model = joblib.load('gradient_booster_model.pkl')\n",
        "custom_boosting_model = joblib.load('custom_gradient_booster_model.pkl')\n",
        "\n",
        "\n",
        "\n",
        "y_pred_dt = decision_tree_model.predict(X)\n",
        "mse_dt = mean_squared_error(y, y_pred_dt)\n",
        "mae_dt = mean_absolute_error(y, y_pred_dt)\n",
        "r2_dt = r2_score(y, y_pred_dt)\n",
        "\n",
        "print(f\"Decision Tree Regressor Performance:\")\n",
        "print(f\"Mean Squared Error: {mse_dt:.4f}\")\n",
        "print(f\"Mean Absolute Error: {mae_dt:.4f}\")\n",
        "print(f\"R-squared: {r2_dt:.4f}\")\n",
        "y_pred_gbm = custom_boosting_model.predict(X)\n",
        "\n",
        "mse_gbm = mean_squared_error(y, y_pred_gbm)\n",
        "mae_gbm = mean_absolute_error(y, y_pred_gbm)\n",
        "r2_gbm = r2_score(y, y_pred_gbm)\n",
        "\n",
        "print(f\"\\nCustom Gradient Booster Performance:\")\n",
        "print(f\"Mean Squared Error: {mse_gbm:.4f}\")\n",
        "print(f\"Mean Absolute Error: {mae_gbm:.4f}\")\n",
        "print(f\"R-squared: {r2_gbm:.4f}\")\n",
        "\n",
        "y_pred = xgb_model.predict(X)\n",
        "\n",
        "# Calculate performance metrics based on the test set\n",
        "mse_xgb = mean_squared_error(y, y_pred)\n",
        "mae_xgb = mean_absolute_error(y, y_pred)\n",
        "r2_xgb = r2_score(y, y_pred)\n",
        "\n",
        "# Print the results\n",
        "print(\"\\nXGBoost Regressor Performance:\")\n",
        "print(f\"Mean Squared Error: {mse_xgb:.4f}\")\n",
        "print(f\"Mean Absolute Error: {mae_xgb:.4f}\")\n",
        "print(f\"R-squared: {r2_xgb:.4f}\")\n"
      ]
    },
    {
      "cell_type": "code",
      "execution_count": null,
      "id": "bV0i75MKZOYM",
      "metadata": {
        "colab": {
          "base_uri": "https://localhost:8080/",
          "height": 564
        },
        "id": "bV0i75MKZOYM",
        "outputId": "5e486cfb-971b-4b9f-e881-1fefd57c984a"
      },
      "outputs": [
        {
          "output_type": "display_data",
          "data": {
            "text/plain": [
              "<Figure size 1000x600 with 1 Axes>"
            ],
            "image/png": "[encoded data removed]"
          },
          "metadata": {}
        }
      ],
      "source": [
        "import matplotlib.pyplot as plt\n",
        "import numpy as np\n",
        "\n",
        "metrics = ['Mean Squared Error', 'Mean Absolute Error', 'R-squared']\n",
        "dt_scores = [mse_dt, mae_dt, r2_dt]\n",
        "gbm_scores = [mse_gbm, mae_gbm, r2_gbm]\n",
        "xgb_scores = [mse_xgb, mae_xgb, r2_xgb]\n",
        "\n",
        "# Set up the bar chart parameters\n",
        "x = np.arange(len(metrics))\n",
        "width = 0.25  # Adjust the width to fit three bars\n",
        "\n",
        "# Create the bar chart\n",
        "fig, ax = plt.subplots(figsize=(10, 6))\n",
        "bars1 = ax.bar(x - width, dt_scores, width, label='Decision Tree')\n",
        "bars2 = ax.bar(x, gbm_scores, width, label='Custom Gradient Booster')\n",
        "bars3 = ax.bar(x + width, xgb_scores, width, label='Extreme Gradient Booster')\n",
        "\n",
        "# Add labels, title, and custom x-axis tick labels\n",
        "ax.set_xlabel('Metrics')\n",
        "ax.set_ylabel('Scores')\n",
        "ax.set_title('Model Performance Comparison')\n",
        "ax.set_xticks(x)\n",
        "ax.set_xticklabels(metrics)\n",
        "ax.legend()\n",
        "\n",
        "# Display the values on top of each bar\n",
        "for bar in bars1 + bars2 + bars3:\n",
        "    yval = bar.get_height()\n",
        "    ax.text(bar.get_x() + bar.get_width()/2, yval, f'{yval:.4f}', ha='center', va='bottom')\n",
        "\n",
        "plt.show()\n"
      ]
    },
    {
      "cell_type": "code",
      "execution_count": null,
      "id": "43146b4c-d577-4f73-a2e4-4f995864a64a",
      "metadata": {
        "id": "43146b4c-d577-4f73-a2e4-4f995864a64a",
        "colab": {
          "base_uri": "https://localhost:8080/",
          "height": 650
        },
        "outputId": "be1c6d09-d3a6-4b3b-e415-ba3b6ff32db8",
        "collapsed": true
      },
      "outputs": [
        {
          "output_type": "stream",
          "name": "stdout",
          "text": [
            "Running Gradio in a Colab notebook requires sharing enabled. Automatically setting `share=True` (you can turn this off by setting `share=False` in `launch()` explicitly).\n",
            "\n",
            "Colab notebook detected. To show errors in colab notebook, set debug=True in launch()\n",
            "* Running on public URL: https://d61e30fd70a471b6b2.gradio.live\n",
            "\n",
            "This share link expires in 72 hours. For free permanent hosting and GPU upgrades, run `gradio deploy` from the terminal in the working directory to deploy to Hugging Face Spaces (https://huggingface.co/spaces)\n"
          ]
        },
        {
          "output_type": "display_data",
          "data": {
            "text/plain": [
              "<IPython.core.display.HTML object>"
            ],
            "text/html": [
              "<div><iframe src=\"https://d61e30fd70a471b6b2.gradio.live\" width=\"100%\" height=\"500\" allow=\"autoplay; camera; microphone; clipboard-read; clipboard-write;\" frameborder=\"0\" allowfullscreen></iframe></div>"
            ]
          },
          "metadata": {}
        },
        {
          "output_type": "execute_result",
          "data": {
            "text/plain": []
          },
          "metadata": {},
          "execution_count": 9
        }
      ],
      "source": [
        "import gradio as gr\n",
        "import joblib\n",
        "import pandas as pd\n",
        "import numpy as np\n",
        "\n",
        "decision_tree_model = joblib.load('decision_tree_model.pkl')\n",
        "gradient_booster_model = joblib.load('gradient_booster_model.pkl')\n",
        "custom_boosting_model = joblib.load('custom_gradient_booster_model.pkl')\n",
        "\n",
        "def predict_salary(\n",
        "    ten_perc, twelve_perc, college_tier, college_gpa, college_city_tier,\n",
        "    english, logical, quant, domain, comp_prog, elec_semicon, comp_sci,\n",
        "    mech_engg, elec_engg, telecom_engg, civil_engg,\n",
        "    gender, board10, board12, degree, specialization, model_choice\n",
        "):\n",
        "    input_dict = {\n",
        "        '10percentage': ten_perc, '12percentage': twelve_perc, 'CollegeTier': college_tier,\n",
        "        'collegeGPA': college_gpa, 'CollegeCityTier': college_city_tier,\n",
        "        'English': english, 'Logical': logical, 'Quant': quant, 'Domain': domain,\n",
        "        'ComputerProgramming': comp_prog, 'ElectronicsAndSemicon': elec_semicon,\n",
        "        'ComputerScience': comp_sci, 'MechanicalEngg': mech_engg,\n",
        "        'ElectricalEngg': elec_engg, 'TelecomEngg': telecom_engg, 'CivilEngg': civil_engg,\n",
        "        'Gender': str(gender), '10board': str(board10), '12board': str(board12),\n",
        "        'Degree': str(degree), 'Specialization': str(specialization)\n",
        "    }\n",
        "\n",
        "    df_input = pd.DataFrame([input_dict])\n",
        "    categorical_features = ['Gender', '10board', '12board', 'Degree', 'Specialization']\n",
        "    df_input = pd.get_dummies(df_input, columns=categorical_features, drop_first=True)\n",
        "\n",
        "    expected_features = decision_tree_model.feature_names_in_\n",
        "    for feature in expected_features:\n",
        "        if feature not in df_input.columns:\n",
        "            df_input[feature] = 0\n",
        "    df_input = df_input[expected_features]\n",
        "\n",
        "    if model_choice == \"Decision Tree\":\n",
        "        pred_log = decision_tree_model.predict(df_input)[0]\n",
        "    elif model_choice == \"Gradient Booster\":\n",
        "        pred_log = gradient_booster_model.predict(df_input)[0]\n",
        "    elif model_choice == \"Custom Boosting\":\n",
        "        pred_log = custom_boosting_model.predict(df_input.values)[0]\n",
        "    else:\n",
        "        return \"Invalid model selection.\"\n",
        "\n",
        "    pred_salary = np.expm1(pred_log)\n",
        "    return f\"\\U0001F4B8 Predicted Salary: ₹{pred_salary:,.2f}\"\n",
        "\n",
        "with gr.Blocks() as ui:\n",
        "    gr.Markdown(\"# 🎓 Engineering Graduate Salary Predictor\")\n",
        "    gr.Markdown(\"Enter your academic and skill details to get a salary prediction.\")\n",
        "\n",
        "    with gr.Row():\n",
        "        with gr.Column():\n",
        "            gr.Markdown(\"### Academic Information\")\n",
        "            ten_perc = gr.Number(label=\"10th Percentage\")\n",
        "            twelve_perc = gr.Number(label=\"12th Percentage\")\n",
        "            college_tier = gr.Number(label=\"College Tier (1, 2, etc.)\")\n",
        "            college_gpa = gr.Number(label=\"College GPA\")\n",
        "            college_city_tier = gr.Number(label=\"College City Tier\")\n",
        "\n",
        "        with gr.Column():\n",
        "            gr.Markdown(\"### Skills & Expertise\")\n",
        "            english = gr.Number(label=\"English Score\")\n",
        "            logical = gr.Number(label=\"Logical Score\")\n",
        "            quant = gr.Number(label=\"Quant Score\")\n",
        "            domain = gr.Number(label=\"Domain Score\")\n",
        "\n",
        "    with gr.Row():\n",
        "        gr.Markdown(\"### Technical Skills\")\n",
        "\n",
        "    with gr.Row():\n",
        "        comp_prog = gr.Number(label=\"Computer Programming\")\n",
        "        elec_semicon = gr.Number(label=\"Electronics & Semicon\")\n",
        "        comp_sci = gr.Number(label=\"Computer Science\")\n",
        "        mech_engg = gr.Number(label=\"Mechanical Engg\")\n",
        "        elec_engg = gr.Number(label=\"Electrical Engg\")\n",
        "        telecom_engg = gr.Number(label=\"Telecom Engg\")\n",
        "        civil_engg = gr.Number(label=\"Civil Engg\")\n",
        "\n",
        "    with gr.Row():\n",
        "        gr.Markdown(\"### Additional Information\")\n",
        "\n",
        "    with gr.Row():\n",
        "        gender = gr.Radio([\"m\", \"f\"], label=\"Gender\")\n",
        "        board10 = gr.Radio([\"cbse\", \"other\"], label=\"10th Board\")\n",
        "        board12 = gr.Radio([\"cbse\", \"other\"], label=\"12th Board\")\n",
        "        degree = gr.Radio([\"B.Tech/B.E.\", \"other\"], label=\"Degree\")\n",
        "        specialization = gr.Radio([\"cse\", \"electronics & telecommunications\", \"other\"], label=\"Specialization\")\n",
        "        model_choice = gr.Radio([\"Decision Tree\", \"Gradient Booster\", \"Custom Boosting\"], label=\"Select Model\")\n",
        "\n",
        "    predict_btn = gr.Button(\"Predict Salary\")\n",
        "    output = gr.Textbox(label=\"Prediction\")\n",
        "\n",
        "    predict_btn.click(predict_salary, inputs=[\n",
        "        ten_perc, twelve_perc, college_tier, college_gpa, college_city_tier,\n",
        "        english, logical, quant, domain, comp_prog, elec_semicon, comp_sci,\n",
        "        mech_engg, elec_engg, telecom_engg, civil_engg,\n",
        "        gender, board10, board12, degree, specialization, model_choice\n",
        "    ], outputs=output)\n",
        "\n",
        "ui.launch()\n"
      ]
    },
    {
      "cell_type": "code",
      "execution_count": null,
      "id": "401a84b2-dd0e-4ee4-8089-cc94b7a52223",
      "metadata": {
        "id": "401a84b2-dd0e-4ee4-8089-cc94b7a52223"
      },
      "outputs": [],
      "source": [
        "pip install gradio"
      ]
    },
    {
      "cell_type": "code",
      "source": [],
      "metadata": {
        "id": "ekoo-HI8o0la"
      },
      "id": "ekoo-HI8o0la",
      "execution_count": null,
      "outputs": []
    }
  ],
  "metadata": {
    "colab": {
      "provenance": []
    },
    "kernelspec": {
      "display_name": "Python 3 (ipykernel)",
      "language": "python",
      "name": "python3"
    },
    "language_info": {
      "codemirror_mode": {
        "name": "ipython",
        "version": 3
      },
      "file_extension": ".py",
      "mimetype": "text/x-python",
      "name": "python",
      "nbconvert_exporter": "python",
      "pygments_lexer": "ipython3",
      "version": "3.11.9"
    }
  },
  "nbformat": 4,
  "nbformat_minor": 5
}